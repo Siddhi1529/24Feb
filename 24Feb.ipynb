{
  "nbformat": 4,
  "nbformat_minor": 0,
  "metadata": {
    "colab": {
      "provenance": []
    },
    "kernelspec": {
      "name": "python3",
      "display_name": "Python 3"
    },
    "language_info": {
      "name": "python"
    }
  },
  "cells": [
    {
      "cell_type": "markdown",
      "source": [
        "Q1. List any five functions of the pandas library with execution.\n",
        "\n"
      ],
      "metadata": {
        "id": "sHy2Mevbb4VM"
      }
    },
    {
      "cell_type": "code",
      "source": [
        "# head()\n",
        "\n",
        "import pandas as pd\n",
        "\n",
        "data = {'Name': ['Alice', 'Bob', 'Charlie', 'David', 'Edward'],\n",
        "        'Age': [24, 27, 22, 32, 29]}\n",
        "df = pd.DataFrame(data)\n",
        "\n",
        "# Displaying the first 3 rows\n",
        "print(df.head(3))\n"
      ],
      "metadata": {
        "colab": {
          "base_uri": "https://localhost:8080/"
        },
        "id": "B7ebWTZXcF5B",
        "outputId": "d161f170-0e00-46ac-f02b-9d814bbc15c5"
      },
      "execution_count": 1,
      "outputs": [
        {
          "output_type": "stream",
          "name": "stdout",
          "text": [
            "      Name  Age\n",
            "0    Alice   24\n",
            "1      Bob   27\n",
            "2  Charlie   22\n"
          ]
        }
      ]
    },
    {
      "cell_type": "code",
      "source": [
        "# describe()\n",
        "\n",
        "data = {'Age': [24, 27, 22, 32, 29]}\n",
        "df = pd.DataFrame(data)\n",
        "\n",
        "# Displaying summary statistics of numeric columns\n",
        "print(df.describe())\n"
      ],
      "metadata": {
        "colab": {
          "base_uri": "https://localhost:8080/"
        },
        "id": "Jc-uOrbvcrpO",
        "outputId": "ce8b5b3c-ea5b-4525-ee81-69643d49eba2"
      },
      "execution_count": 2,
      "outputs": [
        {
          "output_type": "stream",
          "name": "stdout",
          "text": [
            "             Age\n",
            "count   5.000000\n",
            "mean   26.800000\n",
            "std     3.962323\n",
            "min    22.000000\n",
            "25%    24.000000\n",
            "50%    27.000000\n",
            "75%    29.000000\n",
            "max    32.000000\n"
          ]
        }
      ]
    },
    {
      "cell_type": "code",
      "source": [
        "# groupby\n",
        "\n",
        "data = {'Category': ['A', 'B', 'A', 'B', 'A'],\n",
        "        'Value': [10, 20, 30, 40, 50]}\n",
        "df = pd.DataFrame(data)\n",
        "\n",
        "# Grouping by 'Category' and calculating the sum of 'Value'\n",
        "grouped = df.groupby('Category')['Value'].sum()\n",
        "print(grouped)\n"
      ],
      "metadata": {
        "colab": {
          "base_uri": "https://localhost:8080/"
        },
        "id": "zruj7MGZcrxA",
        "outputId": "60b7b4bb-99e9-4883-8dde-c442789e8d33"
      },
      "execution_count": 3,
      "outputs": [
        {
          "output_type": "stream",
          "name": "stdout",
          "text": [
            "Category\n",
            "A    90\n",
            "B    60\n",
            "Name: Value, dtype: int64\n"
          ]
        }
      ]
    },
    {
      "cell_type": "code",
      "source": [
        "# sort_values()\n",
        "\n",
        "data = {'Name': ['Alice', 'Bob', 'Charlie', 'David', 'Edward'],\n",
        "        'Age': [24, 27, 22, 32, 29]}\n",
        "df = pd.DataFrame(data)\n",
        "\n",
        "# Sorting by 'Age' in descending order\n",
        "sorted_df = df.sort_values(by='Age', ascending=False)\n",
        "print(sorted_df)\n"
      ],
      "metadata": {
        "colab": {
          "base_uri": "https://localhost:8080/"
        },
        "id": "u38OAmeQcr43",
        "outputId": "9948f588-9075-4e63-b8c7-3a71dbaecd3a"
      },
      "execution_count": 4,
      "outputs": [
        {
          "output_type": "stream",
          "name": "stdout",
          "text": [
            "      Name  Age\n",
            "3    David   32\n",
            "4   Edward   29\n",
            "1      Bob   27\n",
            "0    Alice   24\n",
            "2  Charlie   22\n"
          ]
        }
      ]
    },
    {
      "cell_type": "code",
      "source": [
        "# fillna()\n",
        "\n",
        "data = {'Name': ['Alice', 'Bob', 'Charlie', 'David', 'Edward'],\n",
        "        'Age': [24, None, 22, 32, None]}\n",
        "df = pd.DataFrame(data)\n",
        "\n",
        "# Filling NaN values in the 'Age' column with the mean age\n",
        "df['Age'] = df['Age'].fillna(df['Age'].mean())\n",
        "print(df)\n"
      ],
      "metadata": {
        "colab": {
          "base_uri": "https://localhost:8080/"
        },
        "id": "ACbtOii9csAe",
        "outputId": "c7c79621-3210-4c6c-e08a-777822fe5488"
      },
      "execution_count": 5,
      "outputs": [
        {
          "output_type": "stream",
          "name": "stdout",
          "text": [
            "      Name   Age\n",
            "0    Alice  24.0\n",
            "1      Bob  26.0\n",
            "2  Charlie  22.0\n",
            "3    David  32.0\n",
            "4   Edward  26.0\n"
          ]
        }
      ]
    },
    {
      "cell_type": "code",
      "source": [],
      "metadata": {
        "id": "_VvNaQ15csH5"
      },
      "execution_count": null,
      "outputs": []
    },
    {
      "cell_type": "markdown",
      "source": [
        "Q2. Given a Pandas DataFrame df with columns 'A', 'B', and 'C', write a Python function to re-index the\n",
        "DataFrame with a new index that starts from 1 and increments by 2 for each row.\n"
      ],
      "metadata": {
        "id": "O9rje7N_b7VI"
      }
    },
    {
      "cell_type": "code",
      "source": [
        "import pandas as pd\n",
        "\n",
        "def reindex_dataframe(df):\n",
        "    # Creating a new index starting from 1 and incrementing by 2\n",
        "    new_index = pd.Index(range(1, len(df)*2+1, 2))\n",
        "\n",
        "    # Assigning the new index to the DataFrame\n",
        "    df.index = new_index\n",
        "\n",
        "    return df\n",
        "\n",
        "# Example usage:\n",
        "data = {'A': [10, 20, 30, 40],\n",
        "        'B': [5, 15, 25, 35],\n",
        "        'C': [100, 200, 300, 400]}\n",
        "df = pd.DataFrame(data)\n",
        "\n",
        "# Reindex the DataFrame\n",
        "df = reindex_dataframe(df)\n",
        "print(df)\n"
      ],
      "metadata": {
        "colab": {
          "base_uri": "https://localhost:8080/"
        },
        "id": "CQRTzTLSb8iA",
        "outputId": "8222d1c5-43e0-4043-a86d-28e0fa4130ab"
      },
      "execution_count": 6,
      "outputs": [
        {
          "output_type": "stream",
          "name": "stdout",
          "text": [
            "    A   B    C\n",
            "1  10   5  100\n",
            "3  20  15  200\n",
            "5  30  25  300\n",
            "7  40  35  400\n"
          ]
        }
      ]
    },
    {
      "cell_type": "markdown",
      "source": [
        "Q3. You have a Pandas DataFrame df with a column named 'Values'. Write a Python function that\n",
        "iterates over the DataFrame and calculates the sum of the first three values in the 'Values' column. The\n",
        "function should print the sum to the console.\n",
        "For example, if the 'Values' column of df contains the values [10, 20, 30, 40, 50], your function should\n",
        "calculate and print the sum of the first three values, which is 60.\n",
        "\n"
      ],
      "metadata": {
        "id": "lnFCX5VOb8p9"
      }
    },
    {
      "cell_type": "code",
      "source": [
        "import pandas as pd\n",
        "\n",
        "def sum_first_three_values(df):\n",
        "    # Accessing the first three values in the 'Values' column and calculating the sum\n",
        "    sum_values = df['Values'].head(3).sum()\n",
        "\n",
        "    # Printing the sum\n",
        "    print(f\"The sum of the first three values is: {sum_values}\")\n",
        "\n",
        "# Example usage:\n",
        "data = {'Values': [10, 20, 30, 40, 50]}\n",
        "df = pd.DataFrame(data)\n",
        "\n",
        "# Calling the function\n",
        "sum_first_three_values(df)\n"
      ],
      "metadata": {
        "colab": {
          "base_uri": "https://localhost:8080/"
        },
        "id": "vLLnzKSsb-GJ",
        "outputId": "17c8e96e-051c-48f3-de33-ee3cb29a4b74"
      },
      "execution_count": 7,
      "outputs": [
        {
          "output_type": "stream",
          "name": "stdout",
          "text": [
            "The sum of the first three values is: 60\n"
          ]
        }
      ]
    },
    {
      "cell_type": "markdown",
      "source": [
        "Q4. Given a Pandas DataFrame df with a column 'Text', write a Python function to create a new column\n",
        "'Word_Count' that contains the number of words in each row of the 'Text' column.\n"
      ],
      "metadata": {
        "id": "SuFkR3Wxb-M9"
      }
    },
    {
      "cell_type": "code",
      "source": [
        "import pandas as pd\n",
        "\n",
        "def add_word_count_column(df):\n",
        "    # Create a new column 'Word_Count' by applying a lambda function to count words\n",
        "    df['Word_Count'] = df['Text'].apply(lambda x: len(str(x).split()))\n",
        "\n",
        "    return df\n",
        "\n",
        "# Example usage:\n",
        "data = {'Text': ['This is a sentence', 'Another example text', 'Pandas is awesome', '']}\n",
        "df = pd.DataFrame(data)\n",
        "\n",
        "# Calling the function\n",
        "df = add_word_count_column(df)\n",
        "print(df)\n"
      ],
      "metadata": {
        "colab": {
          "base_uri": "https://localhost:8080/"
        },
        "id": "U7CxjNpXb_dH",
        "outputId": "23d99ef8-f88e-437b-bbeb-5333b8752e66"
      },
      "execution_count": 8,
      "outputs": [
        {
          "output_type": "stream",
          "name": "stdout",
          "text": [
            "                   Text  Word_Count\n",
            "0    This is a sentence           4\n",
            "1  Another example text           3\n",
            "2     Pandas is awesome           3\n",
            "3                                 0\n"
          ]
        }
      ]
    },
    {
      "cell_type": "markdown",
      "source": [
        "Q5. How are DataFrame.size() and DataFrame.shape() different?\n"
      ],
      "metadata": {
        "id": "Q34AuMXXb_pC"
      }
    },
    {
      "cell_type": "markdown",
      "source": [
        "DataFrame.size:\n",
        "\n",
        "Purpose: Returns the total number of elements in the DataFrame.\n",
        "\n",
        "Description: This is the product of the number of rows and the number of columns. It counts all values in the DataFrame, regardless of the number of rows or columns.\n",
        "\n",
        "Type: Integer\n",
        "\n",
        "\n",
        "DataFrame.shape:\n",
        "\n",
        "Purpose: Returns a tuple representing the dimensions of the DataFrame\n",
        "\n",
        "Description: It gives the number of rows and columns in the form of a tuple\n",
        "\n",
        "Type: Tuple of two integers.\n"
      ],
      "metadata": {
        "id": "T6ICtho_dRSU"
      }
    },
    {
      "cell_type": "code",
      "source": [],
      "metadata": {
        "id": "4X38fod6cAxd"
      },
      "execution_count": null,
      "outputs": []
    },
    {
      "cell_type": "markdown",
      "source": [
        "Q6. Which function of pandas do we use to read an excel file?\n"
      ],
      "metadata": {
        "id": "zxtNU6M2cA6r"
      }
    },
    {
      "cell_type": "code",
      "source": [
        "import pandas as pd\n",
        "\n",
        "# Read an Excel file into a DataFrame\n",
        "df = pd.read_excel('example.xlsx', sheet_name='Sheet1')\n",
        "\n",
        "# Display the DataFrame\n",
        "print(df)\n"
      ],
      "metadata": {
        "id": "bX2z1Ow-desB"
      },
      "execution_count": null,
      "outputs": []
    },
    {
      "cell_type": "code",
      "source": [],
      "metadata": {
        "id": "C8DtdheKdexr"
      },
      "execution_count": null,
      "outputs": []
    },
    {
      "cell_type": "markdown",
      "source": [
        "Q7. You have a Pandas DataFrame df that contains a column named 'Email' that contains email\n",
        "addresses in the format 'username@domain.com'. Write a Python function that creates a new column\n",
        "'Username' in df that contains only the username part of each email address.\n",
        "The username is the part of the email address that appears before the '@' symbol. For example, if the\n",
        "email address is 'john.doe@example.com', the 'Username' column should contain 'john.doe'. Your\n",
        "function should extract the username from each email address and store it in the new 'Username'\n",
        "column.\n"
      ],
      "metadata": {
        "id": "SpmCCK61cB6m"
      }
    },
    {
      "cell_type": "code",
      "source": [
        "import pandas as pd\n",
        "\n",
        "def extract_username(df):\n",
        "    # Creating a new 'Username' column by splitting the 'Email' column at '@' and selecting the first part\n",
        "    df['Username'] = df['Email'].str.split('@').str[0]\n",
        "\n",
        "    return df\n",
        "\n",
        "# Example usage:\n",
        "data = {'Email': ['john.doe@example.com', 'jane.smith@domain.com', 'user123@website.org']}\n",
        "df = pd.DataFrame(data)\n",
        "\n",
        "# Calling the function\n",
        "df = extract_username(df)\n",
        "print(df)\n"
      ],
      "metadata": {
        "colab": {
          "base_uri": "https://localhost:8080/"
        },
        "id": "HRJiXPXNcCpS",
        "outputId": "ca4012c7-6f12-408f-faa2-f54258601254"
      },
      "execution_count": 9,
      "outputs": [
        {
          "output_type": "stream",
          "name": "stdout",
          "text": [
            "                   Email    Username\n",
            "0   john.doe@example.com    john.doe\n",
            "1  jane.smith@domain.com  jane.smith\n",
            "2    user123@website.org     user123\n"
          ]
        }
      ]
    },
    {
      "cell_type": "code",
      "source": [],
      "metadata": {
        "id": "3doUj6QrdnuK"
      },
      "execution_count": null,
      "outputs": []
    },
    {
      "cell_type": "markdown",
      "source": [
        "Q8. You have a Pandas DataFrame df with columns 'A', 'B', and 'C'. Write a Python function that selects\n",
        "all rows where the value in column 'A' is greater than 5 and the value in column 'B' is less than 10. The\n",
        "function should return a new DataFrame that contains only the selected rows.\n",
        "For example, if df contains the following values:\n",
        "\n",
        "A B C\n",
        "0 3 5 1\n",
        "1 8 2 7\n",
        "2 6 9 4\n",
        "3 2 3 5\n",
        "4 9 1 2\n",
        "\n",
        "Your function should select the following rows: A B C\n",
        "1 8 2 7\n",
        "4 9 1 2\n",
        "The function should return a new DataFrame that contains only the selected rows."
      ],
      "metadata": {
        "id": "4meLz__scCvx"
      }
    },
    {
      "cell_type": "code",
      "source": [
        "import pandas as pd\n",
        "\n",
        "def filter_rows(df):\n",
        "    # Applying the conditions: A > 5 and B < 10\n",
        "    filtered_df = df[(df['A'] > 5) & (df['B'] < 10)]\n",
        "\n",
        "    return filtered_df\n",
        "\n",
        "# Example usage:\n",
        "data = {'A': [3, 8, 6, 2, 9],\n",
        "        'B': [5, 2, 9, 3, 1],\n",
        "        'C': [1, 7, 4, 5, 2]}\n",
        "df = pd.DataFrame(data)\n",
        "\n",
        "# Calling the function\n",
        "result_df = filter_rows(df)\n",
        "print(result_df)\n"
      ],
      "metadata": {
        "colab": {
          "base_uri": "https://localhost:8080/"
        },
        "id": "k-ziL9UxcG_t",
        "outputId": "16dc2184-7cb7-4f27-e78d-af3cd3b0411e"
      },
      "execution_count": 10,
      "outputs": [
        {
          "output_type": "stream",
          "name": "stdout",
          "text": [
            "   A  B  C\n",
            "1  8  2  7\n",
            "2  6  9  4\n",
            "4  9  1  2\n"
          ]
        }
      ]
    },
    {
      "cell_type": "code",
      "source": [],
      "metadata": {
        "id": "Rh_SZ5WadtWS"
      },
      "execution_count": null,
      "outputs": []
    },
    {
      "cell_type": "markdown",
      "source": [
        "Q9. Given a Pandas DataFrame df with a column 'Values', write a Python function to calculate the mean,\n",
        "median, and standard deviation of the values in the 'Values' column.\n"
      ],
      "metadata": {
        "id": "KG65k14xcHJC"
      }
    },
    {
      "cell_type": "code",
      "source": [
        "import pandas as pd\n",
        "\n",
        "def calculate_statistics(df):\n",
        "    # Calculating the mean, median, and standard deviation of the 'Values' column\n",
        "    mean_value = df['Values'].mean()\n",
        "    median_value = df['Values'].median()\n",
        "    std_value = df['Values'].std()\n",
        "\n",
        "    # Printing the results\n",
        "    print(f\"Mean: {mean_value}\")\n",
        "    print(f\"Median: {median_value}\")\n",
        "    print(f\"Standard Deviation: {std_value}\")\n",
        "\n",
        "# Example usage:\n",
        "data = {'Values': [10, 20, 30, 40, 50]}\n",
        "df = pd.DataFrame(data)\n",
        "\n",
        "# Calling the function\n",
        "calculate_statistics(df)\n"
      ],
      "metadata": {
        "colab": {
          "base_uri": "https://localhost:8080/"
        },
        "id": "1IlNQiFwcPdP",
        "outputId": "459aae44-b7c1-4d80-8ff9-4973e7d03cd5"
      },
      "execution_count": 11,
      "outputs": [
        {
          "output_type": "stream",
          "name": "stdout",
          "text": [
            "Mean: 30.0\n",
            "Median: 30.0\n",
            "Standard Deviation: 15.811388300841896\n"
          ]
        }
      ]
    },
    {
      "cell_type": "code",
      "source": [],
      "metadata": {
        "id": "UASmoc3yd1Jd"
      },
      "execution_count": null,
      "outputs": []
    },
    {
      "cell_type": "markdown",
      "source": [
        "Q10. Given a Pandas DataFrame df with a column 'Sales' and a column 'Date', write a Python function to\n",
        "create a new column 'MovingAverage' that contains the moving average of the sales for the past 7 days\n",
        "for each row in the DataFrame. The moving average should be calculated using a window of size 7 and\n",
        "should include the current day."
      ],
      "metadata": {
        "id": "JHI9k-oBcPio"
      }
    },
    {
      "cell_type": "code",
      "source": [
        "import pandas as pd\n",
        "\n",
        "def calculate_moving_average(df):\n",
        "    # Ensure the 'Date' column is in datetime format (if it's not already)\n",
        "    df['Date'] = pd.to_datetime(df['Date'])\n",
        "\n",
        "    # Sort the DataFrame by Date to ensure the rolling window works properly\n",
        "    df = df.sort_values(by='Date')\n",
        "\n",
        "    # Calculate the 7-day moving average of the 'Sales' column, including the current day\n",
        "    df['MovingAverage'] = df['Sales'].rolling(window=7, min_periods=1).mean()\n",
        "\n",
        "    return df\n",
        "\n",
        "# Example usage:\n",
        "data = {\n",
        "    'Date': ['2024-12-20', '2024-12-21', '2024-12-22', '2024-12-23', '2024-12-24', '2024-12-25', '2024-12-26', '2024-12-27'],\n",
        "    'Sales': [100, 150, 200, 250, 300, 350, 400, 450]\n",
        "}\n",
        "df = pd.DataFrame(data)\n",
        "\n",
        "# Calling the function\n",
        "df = calculate_moving_average(df)\n",
        "print(df)\n"
      ],
      "metadata": {
        "colab": {
          "base_uri": "https://localhost:8080/"
        },
        "id": "l5vhjys0cQBv",
        "outputId": "bbe349dd-fc41-4651-c4b9-4326bcbae3db"
      },
      "execution_count": 12,
      "outputs": [
        {
          "output_type": "stream",
          "name": "stdout",
          "text": [
            "        Date  Sales  MovingAverage\n",
            "0 2024-12-20    100          100.0\n",
            "1 2024-12-21    150          125.0\n",
            "2 2024-12-22    200          150.0\n",
            "3 2024-12-23    250          175.0\n",
            "4 2024-12-24    300          200.0\n",
            "5 2024-12-25    350          225.0\n",
            "6 2024-12-26    400          250.0\n",
            "7 2024-12-27    450          300.0\n"
          ]
        }
      ]
    },
    {
      "cell_type": "code",
      "source": [],
      "metadata": {
        "id": "IV32IXPyd5Qv"
      },
      "execution_count": null,
      "outputs": []
    },
    {
      "cell_type": "markdown",
      "source": [
        "Q11. You have a Pandas DataFrame df with a column 'Date'. Write a Python function that creates a new\n",
        "column 'Weekday' in the DataFrame. The 'Weekday' column should contain the weekday name (e.g.\n",
        "Monday, Tuesday) corresponding to each date in the 'Date' column.\n",
        "For example, if df contains the following values:\n",
        "Date\n",
        "0 2023-01-01\n",
        "1 2023-01-02\n",
        "2 2023-01-03\n",
        "3 2023-01-04\n",
        "4 2023-01-05\n",
        "Your function should create the following DataFrame:\n",
        "\n",
        "Date Weekday\n",
        "0 2023-01-01 Sunday\n",
        "1 2023-01-02 Monday\n",
        "2 2023-01-03 Tuesday\n",
        "3 2023-01-04 Wednesday\n",
        "4 2023-01-05 Thursday\n",
        "The function should return the modified DataFrame."
      ],
      "metadata": {
        "id": "d-ti7WnTcQIp"
      }
    },
    {
      "cell_type": "code",
      "source": [
        "import pandas as pd\n",
        "\n",
        "def add_weekday_column(df):\n",
        "    # Ensure the 'Date' column is in datetime format\n",
        "    df['Date'] = pd.to_datetime(df['Date'])\n",
        "\n",
        "    # Create a new column 'Weekday' containing the weekday name\n",
        "    df['Weekday'] = df['Date'].dt.day_name()\n",
        "\n",
        "    return df\n",
        "\n",
        "# Example usage:\n",
        "data = {'Date': ['2023-01-01', '2023-01-02', '2023-01-03', '2023-01-04', '2023-01-05']}\n",
        "df = pd.DataFrame(data)\n",
        "\n",
        "# Calling the function\n",
        "df = add_weekday_column(df)\n",
        "print(df)\n"
      ],
      "metadata": {
        "colab": {
          "base_uri": "https://localhost:8080/"
        },
        "id": "MZ1gGCQBcS0H",
        "outputId": "25dec873-64a4-4654-d54b-6dd014a2d826"
      },
      "execution_count": 13,
      "outputs": [
        {
          "output_type": "stream",
          "name": "stdout",
          "text": [
            "        Date    Weekday\n",
            "0 2023-01-01     Sunday\n",
            "1 2023-01-02     Monday\n",
            "2 2023-01-03    Tuesday\n",
            "3 2023-01-04  Wednesday\n",
            "4 2023-01-05   Thursday\n"
          ]
        }
      ]
    },
    {
      "cell_type": "markdown",
      "source": [
        "Q12. Given a Pandas DataFrame df with a column 'Date' that contains timestamps, write a Python\n",
        "function to select all rows where the date is between '2023-01-01' and '2023-01-31'.\n"
      ],
      "metadata": {
        "id": "oZVswi2TcS76"
      }
    },
    {
      "cell_type": "code",
      "source": [
        "import pandas as pd\n",
        "\n",
        "def filter_date_range(df):\n",
        "    # Ensure the 'Date' column is in datetime format\n",
        "    df['Date'] = pd.to_datetime(df['Date'])\n",
        "\n",
        "    # Define the start and end dates for filtering\n",
        "    start_date = '2023-01-01'\n",
        "    end_date = '2023-01-31'\n",
        "\n",
        "    # Filter the DataFrame to select rows where 'Date' is within the specified range\n",
        "    filtered_df = df[(df['Date'] >= start_date) & (df['Date'] <= end_date)]\n",
        "\n",
        "    return filtered_df\n",
        "\n",
        "# Example usage:\n",
        "data = {'Date': ['2023-01-01', '2023-01-05', '2023-01-15', '2023-02-01', '2023-01-30']}\n",
        "df = pd.DataFrame(data)\n",
        "\n",
        "# Calling the function\n",
        "filtered_df = filter_date_range(df)\n",
        "print(filtered_df)\n"
      ],
      "metadata": {
        "colab": {
          "base_uri": "https://localhost:8080/"
        },
        "id": "QvCjjVqLcVy_",
        "outputId": "23779c98-a05a-4e6f-a828-28de9e427d71"
      },
      "execution_count": 14,
      "outputs": [
        {
          "output_type": "stream",
          "name": "stdout",
          "text": [
            "        Date\n",
            "0 2023-01-01\n",
            "1 2023-01-05\n",
            "2 2023-01-15\n",
            "4 2023-01-30\n"
          ]
        }
      ]
    },
    {
      "cell_type": "code",
      "source": [],
      "metadata": {
        "id": "x05sGjPdeJw0"
      },
      "execution_count": null,
      "outputs": []
    },
    {
      "cell_type": "markdown",
      "source": [
        "Q13. To use the basic functions of pandas, what is the first and foremost necessary library that needs to\n",
        "be imported?"
      ],
      "metadata": {
        "id": "AtyvRHImcV5L"
      }
    },
    {
      "cell_type": "code",
      "source": [
        "import pandas as pd\n",
        "\n",
        "# Example DataFrame\n",
        "data = {'A': [1, 2, 3], 'B': [4, 5, 6]}\n",
        "df = pd.DataFrame(data)\n",
        "\n",
        "print(df)\n"
      ],
      "metadata": {
        "colab": {
          "base_uri": "https://localhost:8080/"
        },
        "id": "ZsQ6PXWqcWKv",
        "outputId": "aabc4a16-dc3d-439c-9898-f1be90433a2b"
      },
      "execution_count": 15,
      "outputs": [
        {
          "output_type": "stream",
          "name": "stdout",
          "text": [
            "   A  B\n",
            "0  1  4\n",
            "1  2  5\n",
            "2  3  6\n"
          ]
        }
      ]
    }
  ]
}